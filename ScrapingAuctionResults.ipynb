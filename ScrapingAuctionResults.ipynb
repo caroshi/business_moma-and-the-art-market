{
 "cells": [
  {
   "cell_type": "code",
   "execution_count": null,
   "metadata": {},
   "outputs": [],
   "source": [
    "from bs4 import BeautifulSoup\n",
    "import requests\n",
    "from requests import get\n",
    "import pandas as pd\n",
    "import numpy as np\n",
    "import re\n",
    "import dateutil.parser as dparser"
   ]
  },
  {
   "cell_type": "code",
   "execution_count": null,
   "metadata": {},
   "outputs": [],
   "source": [
    "response = requests.get('https://www.artprice.com/artprice-reports/the-art-market-in-2017/ranking-of-the-top-500-artists-by-auction-turnover-in-2017/top-500-artists-1-to-50/')\n",
    "response.status_code"
   ]
  },
  {
   "cell_type": "code",
   "execution_count": null,
   "metadata": {},
   "outputs": [],
   "source": [
    "soup = BeautifulSoup(response.text, 'lxml')"
   ]
  },
  {
   "cell_type": "code",
   "execution_count": null,
   "metadata": {},
   "outputs": [],
   "source": [
    "table = soup.find_all(class_=\"table table-bordered table-striped\")\n",
    "auction_df = pd.read_html(str(table))[0]"
   ]
  },
  {
   "cell_type": "code",
   "execution_count": null,
   "metadata": {
    "scrolled": true
   },
   "outputs": [],
   "source": [
    "#auction_df.drop([100], inplace=True)"
   ]
  },
  {
   "cell_type": "code",
   "execution_count": null,
   "metadata": {},
   "outputs": [],
   "source": [
    "auction_df.set_index(\"Rank\", inplace=True)"
   ]
  },
  {
   "cell_type": "code",
   "execution_count": null,
   "metadata": {},
   "outputs": [],
   "source": [
    "auction_df"
   ]
  },
  {
   "cell_type": "code",
   "execution_count": null,
   "metadata": {},
   "outputs": [],
   "source": [
    "auction_df.to_csv('2017artist.csv')"
   ]
  },
  {
   "cell_type": "code",
   "execution_count": null,
   "metadata": {},
   "outputs": [],
   "source": [
    "df1 = pd.read_csv('2017.csv')\n",
    "df2 = pd.read_csv('2018.csv')\n",
    "df3 = pd.read_csv('2019.csv')"
   ]
  },
  {
   "cell_type": "code",
   "execution_count": null,
   "metadata": {
    "scrolled": true
   },
   "outputs": [],
   "source": [
    "df1"
   ]
  },
  {
   "cell_type": "code",
   "execution_count": null,
   "metadata": {},
   "outputs": [],
   "source": [
    "artist_list = []\n",
    "\n",
    "for string in df1[\"Artist\"]:\n",
    "    artist_string = string.split(\"(\")\n",
    "    string = artist_string[0] \n",
    "    string = string.strip()\n",
    "    artist_list.append(string)"
   ]
  },
  {
   "cell_type": "code",
   "execution_count": null,
   "metadata": {},
   "outputs": [],
   "source": [
    "artist_list"
   ]
  },
  {
   "cell_type": "code",
   "execution_count": null,
   "metadata": {
    "scrolled": true
   },
   "outputs": [],
   "source": [
    "df1['Artist_Name'] = np.array(artist_list)\n",
    "df1.drop(['Artist', 'Rank'], axis=1, inplace=True)"
   ]
  },
  {
   "cell_type": "code",
   "execution_count": null,
   "metadata": {},
   "outputs": [],
   "source": [
    "df1.rename(columns={'Price ($)':\"Price_Sold\", \"Auction house\": \"Auction_House\"}, inplace=True)\n",
    "df1"
   ]
  },
  {
   "cell_type": "code",
   "execution_count": null,
   "metadata": {
    "scrolled": true
   },
   "outputs": [],
   "source": [
    "df2"
   ]
  },
  {
   "cell_type": "code",
   "execution_count": null,
   "metadata": {},
   "outputs": [],
   "source": [
    "artist_list = []\n",
    "\n",
    "for string in df2[\"Artist\"]:\n",
    "    artist_string = string.split(\"(\")\n",
    "    string = artist_string[0] \n",
    "    string = string.strip()\n",
    "    artist_list.append(string)"
   ]
  },
  {
   "cell_type": "code",
   "execution_count": null,
   "metadata": {},
   "outputs": [],
   "source": [
    "df2['Artist_Name'] = np.array(artist_list)\n",
    "df2.drop(['Artist', 'Rank'], axis=1, inplace=True)"
   ]
  },
  {
   "cell_type": "code",
   "execution_count": null,
   "metadata": {
    "scrolled": true
   },
   "outputs": [],
   "source": [
    "df2.rename(columns={'Price ($)':\"Price_Sold\", \"Auction house\": \"Auction_House\", 'Auction date': 'Date'}, inplace=True)\n",
    "df2"
   ]
  },
  {
   "cell_type": "code",
   "execution_count": null,
   "metadata": {
    "scrolled": true
   },
   "outputs": [],
   "source": [
    "df3"
   ]
  },
  {
   "cell_type": "code",
   "execution_count": null,
   "metadata": {},
   "outputs": [],
   "source": [
    "artist_list = []\n",
    "\n",
    "for string in df3[\"Artist\"]:\n",
    "    artist_string = string.split(\"(\")\n",
    "    string = artist_string[0] \n",
    "    string = string.strip()\n",
    "    artist_list.append(string)"
   ]
  },
  {
   "cell_type": "code",
   "execution_count": null,
   "metadata": {},
   "outputs": [],
   "source": [
    "df3['Artist_Name'] = np.array(artist_list)\n",
    "df3.drop(['Artist', 'Rank', 'Country of birth', 'Record'], axis=1, inplace=True)"
   ]
  },
  {
   "cell_type": "code",
   "execution_count": null,
   "metadata": {},
   "outputs": [],
   "source": [
    "df3.rename(columns={'Price ($)':\"Price_Sold\", \"Auction house\": \"Auction_House\", 'Auction date': 'Date'}, inplace=True)\n",
    "df3"
   ]
  },
  {
   "cell_type": "code",
   "execution_count": null,
   "metadata": {
    "scrolled": true
   },
   "outputs": [],
   "source": [
    "df4 = pd.merge(df1,df2, how='outer')\n",
    "df4 = pd.merge(df4, df3, how='outer')\n",
    "df4.to_csv('201719topworks.csv')"
   ]
  },
  {
   "cell_type": "code",
   "execution_count": null,
   "metadata": {},
   "outputs": [],
   "source": [
    "new_artist_list = []\n",
    "\n",
    "for string in df4[\"Artist\"]:\n",
    "    string_list = string.split(\" \") \n",
    "    string = string_list[1] + \" \" + string_list[0] \n",
    "    string = string.strip()\n",
    "    new_artist_list.append(string)"
   ]
  },
  {
   "cell_type": "code",
   "execution_count": null,
   "metadata": {},
   "outputs": [],
   "source": [
    "auction_list = []\n",
    "date_list = []\n",
    "\n",
    "for string in df4[\"Auction House\"]:\n",
    "    date_list.append(string.split(\"2016\")[0].replace(\",\", \"\").strip())\n",
    "    auction_list.append(string.split(\"2016\")[1].strip())"
   ]
  },
  {
   "cell_type": "code",
   "execution_count": null,
   "metadata": {},
   "outputs": [],
   "source": [
    "df9 = pd.read_csv('2016.csv')"
   ]
  },
  {
   "cell_type": "code",
   "execution_count": null,
   "metadata": {},
   "outputs": [],
   "source": [
    "df9"
   ]
  },
  {
   "cell_type": "code",
   "execution_count": null,
   "metadata": {},
   "outputs": [],
   "source": [
    "#df5 = pd.read_csv('2017artist.csv')\n",
    "#df6 = pd.read_csv('2018artist.csv')\n",
    "df7 = pd.read_csv('2019artist.csv')"
   ]
  },
  {
   "cell_type": "code",
   "execution_count": null,
   "metadata": {},
   "outputs": [],
   "source": [
    "artist_list = []\n",
    "\n",
    "for string in df5[\"Artist\"]:\n",
    "    artist_string = string.split(\"(\")\n",
    "    string = artist_string[0] \n",
    "    string = string.strip()\n",
    "    artist_list.append(string)\n",
    "    \n",
    "df5['Artist_Name'] = np.array(artist_list)"
   ]
  },
  {
   "cell_type": "code",
   "execution_count": null,
   "metadata": {},
   "outputs": [],
   "source": [
    "#df5.drop(['Artist', 'Country of birth', 'Top Auction Result ($)', 'New record'], axis=1, inplace=True)\n",
    "df5.rename(columns={'Turnover ($)':\"Total_Auction_Turnover\",'Sold lots': 'Sold_Lots'}, inplace=True)\n",
    "df5.drop([50], inplace=True)\n",
    "df5"
   ]
  },
  {
   "cell_type": "code",
   "execution_count": null,
   "metadata": {},
   "outputs": [],
   "source": [
    "artist_list = []\n",
    "\n",
    "for string in df6[\"Artist\"]:\n",
    "    artist_string = string.split(\"(\")\n",
    "    string = artist_string[0] \n",
    "    string = string.strip()\n",
    "    artist_list.append(string)\n",
    "    \n",
    "df6['Artist_Name'] = np.array(artist_list)"
   ]
  },
  {
   "cell_type": "code",
   "execution_count": null,
   "metadata": {},
   "outputs": [],
   "source": [
    "#df6.drop(['Artist', 'Country of birth', 'Top Auction Result ($)', 'New record'], axis=1, inplace=True)\n",
    "#df6.rename(columns={'Auction turnover ($)':\"Total_Auction_Turnover\",'Sold lots': 'Sold_Lots'}, inplace=True)\n",
    "#df6.drop([50], inplace=True)"
   ]
  },
  {
   "cell_type": "markdown",
   "metadata": {},
   "source": [
    "###### "
   ]
  },
  {
   "cell_type": "code",
   "execution_count": null,
   "metadata": {},
   "outputs": [],
   "source": [
    "artist_list = []\n",
    "\n",
    "for string in df7[\"Artist\"]:\n",
    "    artist_string = string.split(\"(\")\n",
    "    string = artist_string[0] \n",
    "    string = string.strip()\n",
    "    artist_list.append(string)\n",
    "    \n",
    "df7['Artist_Name'] = np.array(artist_list)"
   ]
  },
  {
   "cell_type": "code",
   "execution_count": null,
   "metadata": {},
   "outputs": [],
   "source": [
    "df7.drop(['Artist', 'Country of birth', 'Top Auction Result ($)', 'New record'], axis=1, inplace=True)\n",
    "df7.rename(columns={'Auction turnover ($)':\"Total_Auction_Turnover\",'Sold lots': 'Sold_Lots', 'Unsold rate': 'Unsold_Rate'}, inplace=True)\n",
    "df7.drop([50], inplace=True)"
   ]
  },
  {
   "cell_type": "code",
   "execution_count": null,
   "metadata": {},
   "outputs": [],
   "source": [
    "#df8 = pd.merge(df5,df6, how='outer')\n",
    "#df8 = pd.merge(df8, df7, how='outer')\n",
    "df8.to_csv('201719artisttotals.csv')"
   ]
  }
 ],
 "metadata": {
  "kernelspec": {
   "display_name": "Python 3",
   "language": "python",
   "name": "python3"
  },
  "language_info": {
   "codemirror_mode": {
    "name": "ipython",
    "version": 3
   },
   "file_extension": ".py",
   "mimetype": "text/x-python",
   "name": "python",
   "nbconvert_exporter": "python",
   "pygments_lexer": "ipython3",
   "version": "3.8.5"
  }
 },
 "nbformat": 4,
 "nbformat_minor": 4
}
