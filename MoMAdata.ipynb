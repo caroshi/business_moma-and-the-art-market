{
 "cells": [
  {
   "cell_type": "code",
   "execution_count": null,
   "metadata": {},
   "outputs": [],
   "source": [
    "import numpy as np\n",
    "import pandas as pd\n",
    "import re"
   ]
  },
  {
   "cell_type": "code",
   "execution_count": null,
   "metadata": {},
   "outputs": [],
   "source": [
    "artists_df = pd.read_csv('artists.csv')"
   ]
  },
  {
   "cell_type": "code",
   "execution_count": null,
   "metadata": {},
   "outputs": [],
   "source": [
    "artists_df"
   ]
  },
  {
   "cell_type": "code",
   "execution_count": null,
   "metadata": {},
   "outputs": [],
   "source": [
    "artwork_df = pd.read_csv('artworks.csv')"
   ]
  },
  {
   "cell_type": "code",
   "execution_count": null,
   "metadata": {
    "scrolled": true
   },
   "outputs": [],
   "source": [
    "artwork_df.Classification.value_counts()"
   ]
  },
  {
   "cell_type": "code",
   "execution_count": null,
   "metadata": {},
   "outputs": [],
   "source": [
    "painting_df = artwork_df[artwork_df[\"Classification\"] == \"Painting\"]\n",
    "sculpture_df = artwork_df[artwork_df[\"Classification\"] == \"Sculpture\"]"
   ]
  },
  {
   "cell_type": "code",
   "execution_count": null,
   "metadata": {
    "scrolled": true
   },
   "outputs": [],
   "source": [
    "painting_df"
   ]
  },
  {
   "cell_type": "code",
   "execution_count": null,
   "metadata": {
    "scrolled": true
   },
   "outputs": [],
   "source": [
    "painting_df = painting_df[painting_df['Date'].apply(lambda x: str(x).isdigit())]\n",
    "painting_df[\"Date\"] = pd.to_numeric(painting_df['Date'])"
   ]
  },
  {
   "cell_type": "code",
   "execution_count": null,
   "metadata": {
    "scrolled": true
   },
   "outputs": [],
   "source": [
    "artists_df.info()"
   ]
  },
  {
   "cell_type": "code",
   "execution_count": null,
   "metadata": {},
   "outputs": [],
   "source": [
    "painting_df = painting_df[painting_df['Artist ID'].apply(lambda x: str(x).isdigit())]\n",
    "painting_df[\"Artist ID\"] = pd.to_numeric(painting_df['Artist ID'])"
   ]
  },
  {
   "cell_type": "code",
   "execution_count": null,
   "metadata": {},
   "outputs": [],
   "source": [
    "#painting_df = pd.merge(painting_df, artists_df, on=\"Artist ID\")"
   ]
  },
  {
   "cell_type": "code",
   "execution_count": null,
   "metadata": {
    "scrolled": true
   },
   "outputs": [],
   "source": [
    "painting_df"
   ]
  },
  {
   "cell_type": "code",
   "execution_count": null,
   "metadata": {},
   "outputs": [],
   "source": [
    "painting_df.drop(['Artwork ID', 'Credit', 'Catalogue', 'Object Number','Diameter (cm)', 'Circumference (cm)',\\\n",
    "         'Length (cm)', 'Depth (cm)', 'Weight (kg)', 'Duration (s)'], axis=1, inplace=True)"
   ]
  },
  {
   "cell_type": "code",
   "execution_count": null,
   "metadata": {},
   "outputs": [],
   "source": [
    "painting_df.rename(columns={'Artist ID':\"Artist_ID\", 'Acquisition Date': 'Acquisition_Date', 'Height (cm)': \"Height_cm\", 'Width (cm)': \"Width_cm\"}, inplace=True)"
   ]
  },
  {
   "cell_type": "code",
   "execution_count": null,
   "metadata": {
    "scrolled": true
   },
   "outputs": [],
   "source": [
    "painting_df"
   ]
  },
  {
   "cell_type": "code",
   "execution_count": null,
   "metadata": {},
   "outputs": [],
   "source": [
    "painting_df.to_csv('MOMApainting.csv')"
   ]
  },
  {
   "cell_type": "code",
   "execution_count": null,
   "metadata": {},
   "outputs": [],
   "source": [
    "year_list = list(painting_df.Date)\n",
    "year_list"
   ]
  },
  {
   "cell_type": "code",
   "execution_count": null,
   "metadata": {
    "scrolled": false
   },
   "outputs": [],
   "source": [
    "edited_year_list = []\n",
    "\n",
    "for string in year_list:\n",
    "    for s in string:\n",
    "        if s.isdigit():\n",
    "            edited_year_list.append(s)"
   ]
  },
  {
   "cell_type": "code",
   "execution_count": null,
   "metadata": {},
   "outputs": [],
   "source": [
    "edited_year_list = []\n",
    "\n",
    "for string in year_list:\n",
    "    re.search(r'^19\\d{2}$', string)\n",
    "\n",
    "    edited_year_list.append(string)"
   ]
  },
  {
   "cell_type": "code",
   "execution_count": null,
   "metadata": {},
   "outputs": [],
   "source": [
    "sculpture_df"
   ]
  },
  {
   "cell_type": "code",
   "execution_count": null,
   "metadata": {},
   "outputs": [],
   "source": [
    "sculpture_df[\"Acquistion_Year\"] =  pd.DatetimeIndex(sculpture_df['Acquisition Date']).year"
   ]
  },
  {
   "cell_type": "code",
   "execution_count": null,
   "metadata": {},
   "outputs": [],
   "source": [
    "sculpture_df.drop(['Artwork ID', 'Credit', 'Catalogue', 'Object Number','Diameter (cm)', 'Circumference (cm)',\\\n",
    "         'Length (cm)', 'Depth (cm)', 'Weight (kg)', 'Duration (s)'], axis=1, inplace=True)"
   ]
  },
  {
   "cell_type": "code",
   "execution_count": null,
   "metadata": {},
   "outputs": [],
   "source": [
    "sculpture_df.rename(columns={'Artist ID':\"Artist_ID\", 'Acquisition Date': 'Acquisition_Date', 'Height (cm)': \"Height_cm\", 'Width (cm)': \"Width_cm\"}, inplace=True)"
   ]
  },
  {
   "cell_type": "code",
   "execution_count": null,
   "metadata": {},
   "outputs": [],
   "source": [
    "sculpture_df"
   ]
  },
  {
   "cell_type": "code",
   "execution_count": null,
   "metadata": {},
   "outputs": [],
   "source": [
    "sculpture_df.to_csv('MOMAsculpture.csv')"
   ]
  },
  {
   "cell_type": "code",
   "execution_count": null,
   "metadata": {},
   "outputs": [],
   "source": [
    "paintingsculpture_df = pd.merge(painting_df, sculpture_df, how=\"outer\")"
   ]
  },
  {
   "cell_type": "code",
   "execution_count": null,
   "metadata": {},
   "outputs": [],
   "source": [
    "paintingsculpture_df.to_csv('MOMApaintingsculpture.csv')"
   ]
  },
  {
   "cell_type": "code",
   "execution_count": null,
   "metadata": {},
   "outputs": [],
   "source": [
    "artwork_df[\"Credit\"].value_counts().head(15)"
   ]
  }
 ],
 "metadata": {
  "kernelspec": {
   "display_name": "Python 3",
   "language": "python",
   "name": "python3"
  },
  "language_info": {
   "codemirror_mode": {
    "name": "ipython",
    "version": 3
   },
   "file_extension": ".py",
   "mimetype": "text/x-python",
   "name": "python",
   "nbconvert_exporter": "python",
   "pygments_lexer": "ipython3",
   "version": "3.8.5"
  }
 },
 "nbformat": 4,
 "nbformat_minor": 4
}
